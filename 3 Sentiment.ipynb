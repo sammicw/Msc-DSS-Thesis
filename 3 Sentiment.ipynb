{
 "cells": [
  {
   "cell_type": "code",
   "execution_count": 3,
   "id": "5c868548-2c7d-4c1c-86e3-bd2909691099",
   "metadata": {},
   "outputs": [
    {
     "name": "stderr",
     "output_type": "stream",
     "text": [
      "[nltk_data] Downloading package words to /home/jovyan/nltk_data...\n",
      "[nltk_data]   Package words is already up-to-date!\n"
     ]
    }
   ],
   "source": [
    "# Import packages needed for text cleaning\n",
    "import pandas as pd\n",
    "import numpy as np\n",
    "import re\n",
    "import nltk\n",
    "from nltk.stem import WordNetLemmatizer\n",
    "  \n",
    "lemmatizer = WordNetLemmatizer()\n",
    "nltk.download('words')\n",
    "words = set(nltk.corpus.words.words())"
   ]
  },
  {
   "cell_type": "code",
   "execution_count": 4,
   "id": "e1da639e-357a-4a8a-a931-6adba9a7144e",
   "metadata": {},
   "outputs": [],
   "source": [
    "# Load data \n",
    "tweets = pd.read_csv(\"tweets_formated.csv\",\n",
    "            lineterminator='\\n')\n",
    "\n",
    "news = pd.read_csv(\"news_formated.csv\",\n",
    "            lineterminator='\\n')"
   ]
  },
  {
   "cell_type": "code",
   "execution_count": 5,
   "id": "652e0e12-6978-482e-ad7c-22a2146cd50e",
   "metadata": {},
   "outputs": [
    {
     "data": {
      "text/plain": [
       "company\n",
       "AAPL     3157\n",
       "ADBE     1804\n",
       "ALPH      165\n",
       "AMAZ      315\n",
       "AMD      2448\n",
       "AMZN     3190\n",
       "APPL      316\n",
       "ASML      928\n",
       "AVGO     1776\n",
       "AZN      1985\n",
       "BROA       28\n",
       "CMCSA    2092\n",
       "COST     2306\n",
       "CSCO     1951\n",
       "FACE      306\n",
       "GOOG     3077\n",
       "META     1983\n",
       "MICR      301\n",
       "MSFT     3093\n",
       "NFLX     2613\n",
       "NVDA     2757\n",
       "NVID      101\n",
       "PACC        4\n",
       "PCAR      377\n",
       "PEP      1877\n",
       "TESL      309\n",
       "TMUS     1529\n",
       "TSLA     3140\n",
       "TXN      1287\n",
       "Name: company, dtype: int64"
      ]
     },
     "execution_count": 5,
     "metadata": {},
     "output_type": "execute_result"
    }
   ],
   "source": [
    "# If we check the two dataframes, we see that 'news' contains more companies\n",
    "# Example: AMAZ = AMZN, APPL = AAPL\n",
    "tweets.groupby(['company'])['company'].count() # 10 companies\n",
    "news.groupby(['company'])['company'].count() # 18 companies -> using wrong tic"
   ]
  },
  {
   "cell_type": "code",
   "execution_count": 6,
   "id": "29b5b5c9-9007-431d-b0e9-3e2933e16cd2",
   "metadata": {},
   "outputs": [
    {
     "data": {
      "text/html": [
       "<div>\n",
       "<style scoped>\n",
       "    .dataframe tbody tr th:only-of-type {\n",
       "        vertical-align: middle;\n",
       "    }\n",
       "\n",
       "    .dataframe tbody tr th {\n",
       "        vertical-align: top;\n",
       "    }\n",
       "\n",
       "    .dataframe thead th {\n",
       "        text-align: right;\n",
       "    }\n",
       "</style>\n",
       "<table border=\"1\" class=\"dataframe\">\n",
       "  <thead>\n",
       "    <tr style=\"text-align: right;\">\n",
       "      <th></th>\n",
       "      <th>company</th>\n",
       "      <th>date</th>\n",
       "      <th>content</th>\n",
       "    </tr>\n",
       "  </thead>\n",
       "  <tbody>\n",
       "    <tr>\n",
       "      <th>1101</th>\n",
       "      <td>TESL</td>\n",
       "      <td>2022-12-01</td>\n",
       "      <td>Tesla To Fix Rear Lighting Issue on Over 435,0...</td>\n",
       "    </tr>\n",
       "    <tr>\n",
       "      <th>1102</th>\n",
       "      <td>TESL</td>\n",
       "      <td>2022-12-01</td>\n",
       "      <td>Musk set to finally take wraps off Tesla truck...</td>\n",
       "    </tr>\n",
       "    <tr>\n",
       "      <th>1103</th>\n",
       "      <td>TESL</td>\n",
       "      <td>2022-12-01</td>\n",
       "      <td>Here are the biggest calls on Wall Street on</td>\n",
       "    </tr>\n",
       "    <tr>\n",
       "      <th>1104</th>\n",
       "      <td>TESL</td>\n",
       "      <td>2022-12-01</td>\n",
       "      <td>Morgan Stanley bullish on Tesla heading in to ...</td>\n",
       "    </tr>\n",
       "    <tr>\n",
       "      <th>1105</th>\n",
       "      <td>TESL</td>\n",
       "      <td>2022-12-01</td>\n",
       "      <td>Tesla to recall 435,000 China-made Model 3, Mo...</td>\n",
       "    </tr>\n",
       "    <tr>\n",
       "      <th>...</th>\n",
       "      <td>...</td>\n",
       "      <td>...</td>\n",
       "      <td>...</td>\n",
       "    </tr>\n",
       "    <tr>\n",
       "      <th>1405</th>\n",
       "      <td>TESL</td>\n",
       "      <td>2023-03-01</td>\n",
       "      <td>U.S. NTSB cites speeding in fatal Tesla 2021 F...</td>\n",
       "    </tr>\n",
       "    <tr>\n",
       "      <th>1406</th>\n",
       "      <td>TESL</td>\n",
       "      <td>2023-02-01</td>\n",
       "      <td>Tesla said to boost output at Shanghai plant o...</td>\n",
       "    </tr>\n",
       "    <tr>\n",
       "      <th>1407</th>\n",
       "      <td>TESL</td>\n",
       "      <td>2023-02-01</td>\n",
       "      <td>Tesla directors to testify in 'funding secured...</td>\n",
       "    </tr>\n",
       "    <tr>\n",
       "      <th>1408</th>\n",
       "      <td>TESL</td>\n",
       "      <td>2023-02-01</td>\n",
       "      <td>In meetings with Saudi Arabia’s Public Investm...</td>\n",
       "    </tr>\n",
       "    <tr>\n",
       "      <th>1409</th>\n",
       "      <td>TESL</td>\n",
       "      <td>2023-02-03</td>\n",
       "      <td>Don&amp;#39;t worry if the lack of a federal tax c...</td>\n",
       "    </tr>\n",
       "  </tbody>\n",
       "</table>\n",
       "<p>309 rows × 3 columns</p>\n",
       "</div>"
      ],
      "text/plain": [
       "     company        date                                            content\n",
       "1101    TESL  2022-12-01  Tesla To Fix Rear Lighting Issue on Over 435,0...\n",
       "1102    TESL  2022-12-01  Musk set to finally take wraps off Tesla truck...\n",
       "1103    TESL  2022-12-01       Here are the biggest calls on Wall Street on\n",
       "1104    TESL  2022-12-01  Morgan Stanley bullish on Tesla heading in to ...\n",
       "1105    TESL  2022-12-01  Tesla to recall 435,000 China-made Model 3, Mo...\n",
       "...      ...         ...                                                ...\n",
       "1405    TESL  2023-03-01  U.S. NTSB cites speeding in fatal Tesla 2021 F...\n",
       "1406    TESL  2023-02-01  Tesla said to boost output at Shanghai plant o...\n",
       "1407    TESL  2023-02-01  Tesla directors to testify in 'funding secured...\n",
       "1408    TESL  2023-02-01  In meetings with Saudi Arabia’s Public Investm...\n",
       "1409    TESL  2023-02-03  Don&#39;t worry if the lack of a federal tax c...\n",
       "\n",
       "[309 rows x 3 columns]"
      ]
     },
     "execution_count": 6,
     "metadata": {},
     "output_type": "execute_result"
    }
   ],
   "source": [
    "# Check if the news articles are indeed about Amazon\n",
    "news.loc[news['company'] == 'AMAZ']\n",
    "news.loc[news['company'] == 'ALPH']\n",
    "news.loc[news['company'] == 'APPL']\n",
    "news.loc[news['company'] == 'BROA']\n",
    "news.loc[news['company'] == 'FACE']\n",
    "news.loc[news['company'] == 'MICR']\n",
    "news.loc[news['company'] == 'NVID']\n",
    "news.loc[news['company'] == 'PACC']\n",
    "news.loc[news['company'] == 'TESL']"
   ]
  },
  {
   "cell_type": "code",
   "execution_count": 7,
   "id": "5744951b-6cd7-459e-8a48-fc68f52e75f7",
   "metadata": {},
   "outputs": [],
   "source": [
    "# Rename to correct company names\n",
    "news = news.replace(\"AMAZ\", \"AMZN\")\n",
    "news = news.loc[news[\"company\"] != \"ALPH\"]\n",
    "news = news.replace(\"APPL\", \"AAPL\")\n",
    "news = news.replace(\"BROA\", \"AVGO\")\n",
    "news = news.replace(\"FACE\", \"META\")\n",
    "news = news.replace(\"MICR\", \"MSFT\")\n",
    "news = news.replace(\"NVID\", \"NVDA\")\n",
    "news = news.replace(\"PACC\", \"PCAR\")\n",
    "news = news.replace(\"TESL\", \"TSLA\")\n",
    "\n",
    "tweets['company'] = tweets['company'].str[1:]"
   ]
  },
  {
   "cell_type": "code",
   "execution_count": 10,
   "id": "c8d87a02-4f5e-4369-b34c-e6267e0148e0",
   "metadata": {},
   "outputs": [
    {
     "name": "stdout",
     "output_type": "stream",
     "text": [
      "company\n",
      "AAPL     2424\n",
      "ADBE     2424\n",
      "AMD      2424\n",
      "AMZN     2424\n",
      "ASML     2396\n",
      "AVGO     2418\n",
      "AZN      2420\n",
      "CMCSA    2424\n",
      "COST     2424\n",
      "CSCO     2424\n",
      "GOOG     2424\n",
      "META     2064\n",
      "MSFT     2424\n",
      "NFLX     2424\n",
      "NVDA     2424\n",
      "PCAR     2155\n",
      "PEP      2424\n",
      "TMUS     2412\n",
      "TSLA     2424\n",
      "TXN      2418\n",
      "Name: company, dtype: int64\n",
      "company\n",
      "AAPL     3473\n",
      "ADBE     1804\n",
      "AMD      2448\n",
      "AMZN     3505\n",
      "ASML      928\n",
      "AVGO     1804\n",
      "AZN      1985\n",
      "CMCSA    2092\n",
      "COST     2306\n",
      "CSCO     1951\n",
      "GOOG     3077\n",
      "META     2289\n",
      "MSFT     3394\n",
      "NFLX     2613\n",
      "NVDA     2858\n",
      "PCAR      381\n",
      "PEP      1877\n",
      "TMUS     1529\n",
      "TSLA     3449\n",
      "TXN      1287\n",
      "Name: company, dtype: int64\n"
     ]
    }
   ],
   "source": [
    "# Print ticker, company name, and number of tweets and news for Table\n",
    "print(tweets.groupby(['company'])['company'].count())\n",
    "print(news.groupby(['company'])['company'].count())"
   ]
  },
  {
   "cell_type": "code",
   "execution_count": 33,
   "id": "c9338485-7175-4baa-b2c4-253073b93fb1",
   "metadata": {},
   "outputs": [
    {
     "name": "stderr",
     "output_type": "stream",
     "text": [
      "/tmp/ipykernel_29751/4044640233.py:3: DeprecationWarning: `np.float` is a deprecated alias for the builtin `float`. To silence this warning, use `float` by itself. Doing this will not modify any behavior and is safe. If you specifically wanted the numpy scalar type, use `np.float64` here.\n",
      "Deprecated in NumPy 1.20; for more details and guidance: https://numpy.org/devdocs/release/1.20.0-notes.html#deprecations\n",
      "  if type(text) == np.float:\n"
     ]
    }
   ],
   "source": [
    "# Function to clean text, more specifically tweets\n",
    "def clean_text(text):\n",
    "    if type(text) == np.float:\n",
    "        return \"\"\n",
    "    temp = text.lower()\n",
    "    temp = re.sub(\"'\", \"\", temp) # To avoid removing contractions in english\n",
    "    temp = re.sub(\"@[A-Za-z0-9_]+\",\"\", temp) # Removes @user\n",
    "    temp = re.sub(r'http\\S+', '', temp) # Removes http links\n",
    "    temp = re.sub('[()!?]', ' ', temp) \n",
    "    temp = re.sub('\\[.*?\\]',' ', temp)\n",
    "    temp = re.sub(\"[^a-z0-9]\",\" \", temp)\n",
    "    temp = temp.split() \n",
    "    text = text.replace(\"#\", \"\").replace(\"_\", \" \") #Remove hashtag sign but keep the text\n",
    "    temp = \" \".join(word for word in temp)\n",
    "    return temp\n",
    "\n",
    "tweets['content'] = tweets['content'].map(lambda x: clean_text(x))\n",
    "news['content'] = news['content'].map(lambda x: clean_text(x))"
   ]
  },
  {
   "cell_type": "code",
   "execution_count": 34,
   "id": "9ab69233-80ca-4922-8be6-6a7f5500d3af",
   "metadata": {},
   "outputs": [],
   "source": [
    "# Tokenize data\n",
    "def tokenization(text):\n",
    "    text = re.split('\\W+', text)\n",
    "    return text\n",
    "\n",
    "tweets['tokenized'] = tweets['content'].apply(lambda x: tokenization(x.lower()))\n",
    "news['tokenized'] = news['content'].apply(lambda x: tokenization(x.lower()))"
   ]
  },
  {
   "cell_type": "code",
   "execution_count": 37,
   "id": "5c693364-883b-48cd-a529-0e3f70e2fb09",
   "metadata": {},
   "outputs": [],
   "source": [
    "# Removes stopwords\n",
    "#nltk.download()\n",
    "from nltk.corpus import stopwords\n",
    "stopword = nltk.corpus.stopwords.words('english')\n",
    "\n",
    "def remove_stopwords(text):\n",
    "    text = [word for word in text if word not in stopword]\n",
    "    return text\n",
    "    \n",
    "tweets['nonstop'] = tweets['tokenized'].apply(lambda x: remove_stopwords(x))\n",
    "news['nonstop'] = news['tokenized'].apply(lambda x: remove_stopwords(x))"
   ]
  },
  {
   "cell_type": "code",
   "execution_count": 38,
   "id": "0e332c4e-4c82-4364-aa7b-a21f72b7f4cc",
   "metadata": {},
   "outputs": [],
   "source": [
    "# Stemming the text\n",
    "ps = nltk.PorterStemmer()\n",
    "\n",
    "def stemming(text):\n",
    "    text = [ps.stem(word) for word in text]\n",
    "    return text\n",
    "\n",
    "tweets['stemmed'] = tweets['nonstop'].apply(lambda x: stemming(x))\n",
    "news['stemmed'] = news['nonstop'].apply(lambda x: stemming(x))"
   ]
  },
  {
   "cell_type": "code",
   "execution_count": 41,
   "id": "e8facd85-98bd-4af5-b75a-f5bb5aa00210",
   "metadata": {},
   "outputs": [],
   "source": [
    "# Loughram & McDonald sentiment analysis\n",
    "import pysentiment2 as ps\n",
    "\n",
    "lm = ps.LM()\n",
    "tweets['polarity'] = tweets['stemmed'].apply(lm.get_score)\n",
    "news['polarity'] = news['stemmed'].apply(lm.get_score)"
   ]
  },
  {
   "cell_type": "code",
   "execution_count": 42,
   "id": "5971cd4c-f1a8-4bec-a07c-4d50e58e9ba1",
   "metadata": {},
   "outputs": [],
   "source": [
    "# Change data structure\n",
    "tweets = pd.concat(\n",
    "    [tweets.drop(['polarity'], axis=1), \n",
    "     tweets['polarity'].apply(pd.Series)], axis=1)\n",
    "\n",
    "news = pd.concat(\n",
    "    [news.drop(['polarity'], axis=1), \n",
    "     news['polarity'].apply(pd.Series)], axis=1)"
   ]
  },
  {
   "cell_type": "code",
   "execution_count": 43,
   "id": "5b2a21cc-f6bc-4a28-b10a-17991740e42d",
   "metadata": {},
   "outputs": [],
   "source": [
    "# Create new variable with sentiment \"neutral,\" \"positive\" and \"negative\"\n",
    "tweets['sentiment'] = tweets['Polarity'].apply(lambda x: 'positive' if x > 0 else 'neutral' if x == 0 else 'negative')\n",
    "news['sentiment'] = news['Polarity'].apply(lambda x: 'positive' if x > 0 else 'neutral' if x == 0 else 'negative')"
   ]
  },
  {
   "cell_type": "code",
   "execution_count": 52,
   "id": "80d6a2cf-4750-4b04-b572-cd06fac448c7",
   "metadata": {},
   "outputs": [],
   "source": [
    "# Calculate sentiment mean for each day\n",
    "tweets_polarity = tweets.groupby([\"company\", \"date\"])[\"Polarity\"].mean()\n",
    "news_ = news.groupby([\"company\", \"date\"])[\"Polarity\"].mean()"
   ]
  },
  {
   "cell_type": "code",
   "execution_count": 53,
   "id": "9870162f-ef61-48d2-95f5-14cd3addab39",
   "metadata": {},
   "outputs": [],
   "source": [
    "# Change data stracture back \n",
    "tweets_sent = pd.DataFrame(tweets_polarity)\n",
    "news_sent = pd.DataFrame(news_polarity)\n",
    "\n",
    "tweets_sent = tweets_sent.reset_index()\n",
    "news_sent = news_sent.reset_index()"
   ]
  },
  {
   "cell_type": "code",
   "execution_count": 54,
   "id": "65cec6a1-462c-4f5f-a819-1f5b51cd1823",
   "metadata": {},
   "outputs": [],
   "source": [
    "# Save as CSV\n",
    "tweets_sent.to_csv(\"tweets_sent.csv\", index = False)\n",
    "news_sent.to_csv(\"news_sent.csv\", index = False)"
   ]
  }
 ],
 "metadata": {
  "kernelspec": {
   "display_name": "Python 3 (ipykernel)",
   "language": "python",
   "name": "python3"
  },
  "language_info": {
   "codemirror_mode": {
    "name": "ipython",
    "version": 3
   },
   "file_extension": ".py",
   "mimetype": "text/x-python",
   "name": "python",
   "nbconvert_exporter": "python",
   "pygments_lexer": "ipython3",
   "version": "3.9.7"
  }
 },
 "nbformat": 4,
 "nbformat_minor": 5
}
