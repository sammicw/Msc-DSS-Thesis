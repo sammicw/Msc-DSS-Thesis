{
 "cells": [
  {
   "cell_type": "code",
   "execution_count": 34,
   "id": "53bf7cce-8189-4d91-9fc2-290229569f8f",
   "metadata": {},
   "outputs": [],
   "source": [
    "import pandas as pd\n",
    "import numpy as np\n",
    "import sklearn\n",
    "from sklearn.linear_model import LinearRegression\n",
    "from sklearn.model_selection import train_test_split\n",
    "from sklearn.model_selection import TimeSeriesSplit\n",
    "from sklearn import preprocessing\n",
    "from scipy.stats.mstats import winsorize\n",
    "from scipy.stats import skew\n",
    "from sklearn.preprocessing import MinMaxScaler, StandardScaler"
   ]
  },
  {
   "cell_type": "code",
   "execution_count": 35,
   "id": "e19d11d0-f11a-4304-99ae-5d71b83a4892",
   "metadata": {
    "tags": []
   },
   "outputs": [],
   "source": [
    "# Load Tweets\n",
    "stock = pd.read_csv(\"stocks2.csv\",\n",
    "                     lineterminator='\\n')\n",
    "\n",
    "tweets_sent = pd.read_csv(\"tweets_sent.csv\",\n",
    "                     lineterminator='\\n')\n",
    "\n",
    "news_sent = pd.read_csv(\"news_sent.csv\",\n",
    "                     lineterminator='\\n')\n",
    "\n",
    "stock['div'] = stock['div'].fillna(0)\n",
    "\n",
    "# Keep only main 20 stocks\n",
    "stock = stock.loc[stock[\"tic\"] != \"ASMLF\"]\n",
    "stock = stock.loc[stock[\"tic\"] != \"AVGOP\"]\n",
    "stock = stock.loc[stock[\"tic\"] != \"GOOGL\"]\n",
    "stock = stock.loc[stock[\"tic\"] != \"AZNCF\"]\n",
    "stock = stock.loc[stock[\"tic\"] != \"CCZ\"]\n",
    "\n",
    "# Rename columns\n",
    "stock = stock.rename(columns={\"datadate\": \"date\"})\n",
    "stock = stock.rename(columns={\"tic\": \"company\"})\n",
    "tweets_sent = tweets_sent.rename(columns={\"Polarity\": \"tweets_sent\"})\n",
    "news_sent = news_sent.rename(columns={\"Polarity\": \"news_sent\"})\n",
    "\n",
    "# Merge dataframes and fill empties with zero\n",
    "df = pd.merge(stock, tweets_sent, on=['date','company'], how = 'left').fillna(0)\n",
    "df = pd.merge(df, news_sent, on=['date','company'], how = 'left').fillna(0)\n",
    "\n",
    "df = df[['date', 'company',\n",
    "         'ajexdi', 'epsmo', 'trfd',\n",
    "         'cshoc', 'cshtrd', 'eps', 'div',\n",
    "         'prccd', 'prchd', 'prcld', \n",
    "         'prcod', 'tweets_sent', 'news_sent']]"
   ]
  },
  {
   "cell_type": "code",
   "execution_count": 36,
   "id": "12b67674-6505-4b4e-b50c-e8feff33b5c4",
   "metadata": {},
   "outputs": [],
   "source": [
    "df = df.sort_values(['date', 'company']) \n",
    "\n",
    "df['simp_ret'] = df.groupby('company')['prccd'].pct_change()\n",
    "df['ret'] = df.groupby('company')['simp_ret'].apply(lambda x: np.log(1 + x) * 100)\n",
    "df['ret+1'] = df.groupby('company')['ret'].shift(-1)\n",
    "\n",
    "\n",
    "# Drop the first row for each company since it will have a NaN value\n",
    "df = df.groupby('company').apply(lambda x: x.dropna())"
   ]
  },
  {
   "cell_type": "code",
   "execution_count": 38,
   "id": "fe310b4e-9ad5-4659-a73b-70a72d3257c7",
   "metadata": {},
   "outputs": [],
   "source": [
    "# Winsorize extreme values to reduce skewness \n",
    "for v in ['ajexdi','eps', 'prccd', 'prchd', 'prcld', 'prcod', 'cshoc', 'cshtrd']:\n",
    "    df[v] = winsorize(df[v],limits=[.00,.05])"
   ]
  },
  {
   "cell_type": "code",
   "execution_count": 28,
   "id": "3b28bb58-ac61-4122-8b17-0ae581ab1135",
   "metadata": {
    "tags": []
   },
   "outputs": [],
   "source": [
    "# Define the columns to be scaled\n",
    "cols_to_scale = ['ajexdi', 'epsmo', 'trfd', 'cshoc', 'cshtrd', 'eps', 'prccd', 'prchd', 'prcld', 'prcod', 'div']\n",
    "\n",
    "scaler = MinMaxScaler(feature_range=(-1, 1))\n",
    "df[cols_to_scale] = scaler.fit_transform(df[cols_to_scale])"
   ]
  },
  {
   "cell_type": "code",
   "execution_count": 10,
   "id": "93c1f9f9-1aaf-4e40-a718-71eb1d0acdef",
   "metadata": {
    "tags": []
   },
   "outputs": [],
   "source": [
    "# Save as CSV\n",
    "df.to_csv(\"ml_df.csv\", index = False)"
   ]
  }
 ],
 "metadata": {
  "kernelspec": {
   "display_name": "Python 3 (ipykernel)",
   "language": "python",
   "name": "python3"
  },
  "language_info": {
   "codemirror_mode": {
    "name": "ipython",
    "version": 3
   },
   "file_extension": ".py",
   "mimetype": "text/x-python",
   "name": "python",
   "nbconvert_exporter": "python",
   "pygments_lexer": "ipython3",
   "version": "3.9.7"
  }
 },
 "nbformat": 4,
 "nbformat_minor": 5
}
