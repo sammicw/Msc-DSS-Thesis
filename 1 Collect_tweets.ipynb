{
 "cells": [
  {
   "cell_type": "code",
   "execution_count": null,
   "id": "ffe7aecd-7f2b-4f80-8421-1b7afa6780d9",
   "metadata": {},
   "outputs": [],
   "source": [
    "# Import packages for scraping tweets\n",
    "import pandas as pd\n",
    "from datetime import date, timedelta\n",
    "from tqdm.notebook import tqdm\n",
    "import snscrape.modules.twitter as sntwitter"
   ]
  },
  {
   "cell_type": "code",
   "execution_count": null,
   "id": "a41d915c-4f8c-4a2d-be0f-0b9f49600a8d",
   "metadata": {},
   "outputs": [],
   "source": [
    "# Create range of dates to loop through\n",
    "def daterange(start_date, end_date):\n",
    "    for n in range(int((end_date - start_date).days)):\n",
    "        yield start_date + timedelta(n)\n",
    "\n",
    "start_date = date(2021, 1, 1)\n",
    "end_date = date(2023, 3, 20)"
   ]
  },
  {
   "cell_type": "code",
   "execution_count": null,
   "id": "4b2dab54-c569-4c3f-b2df-fbe7ee7d979d",
   "metadata": {
    "tags": []
   },
   "outputs": [],
   "source": [
    "## Create list with companies we want to loop through\n",
    "comp_list = [\"$AAPL\",\n",
    "             \"$MSFT\",\n",
    "             \"$GOOG\",\n",
    "             \"$AMZN\",\n",
    "             \"$PCAR\",\n",
    "             \"$TSLA\",\n",
    "             \"$NVDA\",\n",
    "             \"$META\",\n",
    "             \"$AVGO\",\n",
    "             \"$ASML\",\n",
    "             \"$PEP\",\n",
    "             \"$AZN\",\n",
    "             \"$COST\",\n",
    "             \"$CSCO\",\n",
    "             \"$TMUS\",  \n",
    "             \"$ADBE\",\n",
    "             \"$TXN\",\n",
    "             \"$CMCSA\",\n",
    "             \"$NFLX\",\n",
    "             \"$AMD\"]"
   ]
  },
  {
   "cell_type": "code",
   "execution_count": null,
   "id": "2f119b9f-d3c5-49b8-82b3-b7e67639b952",
   "metadata": {},
   "outputs": [],
   "source": [
    "# Creates list to save tweets\n",
    "tweets = []\n",
    "\n",
    "# Create loop to scrape daily \n",
    "for company in comp_list:\n",
    "    for single_date in daterange(start_date, end_date):\n",
    "        scraper = sntwitter.TwitterSearchScraper(str(company) +\n",
    "                                                 \" since:\" + \n",
    "                                                 str(single_date) + \n",
    "                                                 \" until:\" +\n",
    "                                                 str(single_date + timedelta(1)) +\n",
    "                                                 \" lang:en exclude:replies exclude:retweets\")\n",
    "        for i, tweet in enumerate(scraper.get_items()):\n",
    "            if i < 3:\n",
    "                tweets.append([tweet.date,\n",
    "                               tweet.rawContent,\n",
    "                               company])\n",
    "                \n",
    "            else:\n",
    "                break\n",
    "    \n",
    "    "
   ]
  },
  {
   "cell_type": "code",
   "execution_count": null,
   "id": "a73aba7a-90d6-4993-9fd6-879e15229f26",
   "metadata": {},
   "outputs": [],
   "source": [
    "tweets_df = pd.DataFrame(tweets, columns=[\"date\", \"content\", \"company\"])"
   ]
  },
  {
   "cell_type": "code",
   "execution_count": null,
   "id": "bf614e38-cd5a-46af-b07e-27c223d2499f",
   "metadata": {},
   "outputs": [],
   "source": [
    "# Save as CSV\n",
    "tweets_df.to_csv(\"tweets.csv\", index = False)"
   ]
  }
 ],
 "metadata": {
  "kernelspec": {
   "display_name": "Python 3 (ipykernel)",
   "language": "python",
   "name": "python3"
  },
  "language_info": {
   "codemirror_mode": {
    "name": "ipython",
    "version": 3
   },
   "file_extension": ".py",
   "mimetype": "text/x-python",
   "name": "python",
   "nbconvert_exporter": "python",
   "pygments_lexer": "ipython3",
   "version": "3.9.7"
  }
 },
 "nbformat": 4,
 "nbformat_minor": 5
}
