{
 "cells": [
  {
   "cell_type": "code",
   "execution_count": 5,
   "id": "4c219e65-3339-4567-9d89-09d817c24801",
   "metadata": {},
   "outputs": [],
   "source": [
    "import pandas as pd\n",
    "import requests\n",
    "from datetime import datetime\n",
    "from datetime import date\n",
    "from dateutil import rrule\n",
    "from pandas.io.json import json_normalize"
   ]
  },
  {
   "cell_type": "code",
   "execution_count": 6,
   "id": "2e8c92bf-34d3-4d71-98a6-6533e2af457b",
   "metadata": {},
   "outputs": [],
   "source": [
    "# Create list with companies we want to loop through\n",
    "comp_list = [\"Apple AAPL\",\n",
    "             \"Microsoft MSFT\",\n",
    "             \"Alphabet GOOG\",\n",
    "             \"Amazon AMZN\",\n",
    "             \"PACCAR PCAR\",\n",
    "             \"Tesla TSLA\",\n",
    "             \"NVIDIA NVDA\",\n",
    "             \"Facebook META\",\n",
    "             \"Broadcom AVGO\",\n",
    "             \"ASML\",\n",
    "             \"PEP\",\n",
    "             \"AZN\",\n",
    "             \"COST\",\n",
    "             \"CSCO\",\n",
    "             \"TMUS\", \n",
    "             \"ADBE\",\n",
    "             \"TXN\",\n",
    "             \"CMCSA\",\n",
    "             \"NFLX\",\n",
    "             \"AMD\"]"
   ]
  },
  {
   "cell_type": "code",
   "execution_count": 7,
   "id": "cdc37b63-ba15-4969-816e-ce287ecf2a45",
   "metadata": {},
   "outputs": [],
   "source": [
    "# Create list with months we want to loop through\n",
    "# We can max \n",
    "start_date_list = []\n",
    "end_date_list = []\n",
    " \n",
    "# dates\n",
    "start_date = datetime(2020, 1, 1)\n",
    "end_date = datetime(2023, 3, 20)\n",
    " \n",
    "for dt in rrule.rrule(rrule.MONTHLY, dtstart=start_date, until=end_date):\n",
    "    start_date_list.append(dt.strftime(\"%Y-%m-%d\"))\n",
    "    end_date_list.append(dt.strftime(\"%Y-%m-%d\"))\n",
    "    \n",
    "start_date_list = list(start_date_list[:-1])\n",
    "end_date_list = list(end_date_list[1:])"
   ]
  },
  {
   "cell_type": "code",
   "execution_count": 8,
   "id": "c1953d4a-949c-49f9-9f23-6c8c740c701d",
   "metadata": {},
   "outputs": [
    {
     "ename": "KeyError",
     "evalue": "'data'",
     "output_type": "error",
     "traceback": [
      "\u001b[0;31m---------------------------------------------------------------------------\u001b[0m",
      "\u001b[0;31mKeyError\u001b[0m                                  Traceback (most recent call last)",
      "Input \u001b[0;32mIn [9]\u001b[0m, in \u001b[0;36m<module>\u001b[0;34m\u001b[0m\n\u001b[1;32m     15\u001b[0m responses \u001b[38;5;241m=\u001b[39m r\u001b[38;5;241m.\u001b[39mjson()\n\u001b[1;32m     17\u001b[0m \u001b[38;5;66;03m#Define collected API responses\u001b[39;00m\n\u001b[0;32m---> 18\u001b[0m data \u001b[38;5;241m=\u001b[39m \u001b[43mresponses\u001b[49m\u001b[43m[\u001b[49m\u001b[38;5;124;43m'\u001b[39;49m\u001b[38;5;124;43mdata\u001b[39;49m\u001b[38;5;124;43m'\u001b[39;49m\u001b[43m]\u001b[49m\n\u001b[1;32m     20\u001b[0m \u001b[38;5;66;03m#Normalize and unnest JSON response\u001b[39;00m\n\u001b[1;32m     21\u001b[0m flatData \u001b[38;5;241m=\u001b[39m json_normalize(data)\n",
      "\u001b[0;31mKeyError\u001b[0m: 'data'"
     ]
    }
   ],
   "source": [
    "news_df = pd.DataFrame()\n",
    "\n",
    "for comp in comp_list:\n",
    "    for start, end in zip(start_date_list, end_date_list):\n",
    "        # Collect news using API\n",
    "        r = requests.get(\"https://api.mediastack.com/v1/news?access_key=\"\n",
    "                        + #API KEY\n",
    "                        + \"&date=\" \n",
    "                        + str(start) + \",\"\n",
    "                        + str(end)\n",
    "                        + \"&languages=en\"\n",
    "                        + \"&countres=gb,us\"\n",
    "                        + \"&categories=business,technology,science&keywords=\"\n",
    "                        + str(comp) \n",
    "                        + \"&limit=100\")\n",
    "        \n",
    "        responses = r.json()\n",
    "        \n",
    "        #Define collected API responses\n",
    "        data = responses['data']\n",
    "        \n",
    "        #Normalize and unnest JSON response\n",
    "        flatData = json_normalize(data)\n",
    "        \n",
    "        df = pd.DataFrame(flatData)\n",
    "        df[\"company\"] = comp\n",
    "        news_df = news_df.append(df)\n",
    "        \n",
    "news_df"
   ]
  },
  {
   "cell_type": "code",
   "execution_count": 6,
   "id": "683b03e5-9d30-4983-9d28-250277f7773e",
   "metadata": {},
   "outputs": [],
   "source": [
    "# Save as CSV\n",
    "#news_df.to_csv(\"mediastack.csv\", index = False)"
   ]
  }
 ],
 "metadata": {
  "kernelspec": {
   "display_name": "Python 3 (ipykernel)",
   "language": "python",
   "name": "python3"
  },
  "language_info": {
   "codemirror_mode": {
    "name": "ipython",
    "version": 3
   },
   "file_extension": ".py",
   "mimetype": "text/x-python",
   "name": "python",
   "nbconvert_exporter": "python",
   "pygments_lexer": "ipython3",
   "version": "3.9.7"
  }
 },
 "nbformat": 4,
 "nbformat_minor": 5
}
